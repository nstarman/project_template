{
  "cells": [
    {
      "cell_type": "markdown",
      "source": [
        "```markdown\n",
        "TITLE   :  \n",
        "AUTHOR  :\n",
        "PROJECT :  \n",
        "```\n"
      ],
      "metadata": {}
    },
    {
      "cell_type": "markdown",
      "source": [
        "<span style='font-size:30px;font-weight:650'>\n",
        "    About\n",
        "</span>\n",
        "\n",
        "Information about this notebook.\n"
      ],
      "metadata": {}
    },
    {
      "cell_type": "markdown",
      "source": [
        "<br><br>\n",
        "\n",
        "- - - \n",
        "\n",
        "# Prepare\n",
        "\n",
        "In this section we import packages, set parameters, and define basic functions.\n",
        "\n",
        "\n"
      ],
      "metadata": {}
    },
    {
      "cell_type": "markdown",
      "source": [
        "## Imports"
      ],
      "metadata": {
        "collapsed": false,
        "outputHidden": false,
        "inputHidden": false
      }
    },
    {
      "cell_type": "code",
      "source": [
        "# BUILT-IN\n",
        "\n",
        "# THIRD PARTY\n",
        "\n",
        "# PROJECT-SPECIFIC"
      ],
      "outputs": [],
      "execution_count": 2,
      "metadata": {
        "collapsed": false,
        "outputHidden": false,
        "inputHidden": false,
        "execution": {
          "iopub.status.busy": "2020-09-10T18:56:17.184Z",
          "iopub.execute_input": "2020-09-10T18:56:17.188Z",
          "iopub.status.idle": "2020-09-10T18:56:17.193Z",
          "shell.execute_reply": "2020-09-10T18:56:17.196Z"
        }
      }
    },
    {
      "cell_type": "markdown",
      "source": [
        "<br><br>\n",
        "\n",
        "- - - \n",
        "\n",
        "\n",
        "# Code"
      ],
      "metadata": {}
    },
    {
      "cell_type": "code",
      "source": [],
      "outputs": [],
      "execution_count": 4,
      "metadata": {
        "collapsed": false,
        "outputHidden": false,
        "inputHidden": false
      }
    },
    {
      "cell_type": "markdown",
      "source": [
        "<br><br>\n",
        "\n",
        "- - - \n",
        "\n",
        "<span style='font-size:40px;font-weight:650'>\n",
        "    END\n",
        "</span>"
      ],
      "metadata": {}
    }
  ],
  "metadata": {
    "kernelspec": {
      "name": "python3",
      "language": "python",
      "display_name": "Python 3"
    },
    "language_info": {
      "name": "python",
      "version": "3.7.4",
      "mimetype": "text/x-python",
      "codemirror_mode": {
        "name": "ipython",
        "version": 3
      },
      "pygments_lexer": "ipython3",
      "nbconvert_exporter": "python",
      "file_extension": ".py"
    },
    "nteract": {
      "version": "0.25.0"
    },
    "kernel_info": {
      "name": "python3"
    }
  },
  "nbformat": 4,
  "nbformat_minor": 2
}